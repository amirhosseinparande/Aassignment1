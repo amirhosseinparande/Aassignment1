{
 "cells": [
  {
   "cell_type": "code",
   "execution_count": null,
   "metadata": {},
   "outputs": [],
   "source": [
    "p = 3.14\n",
    "r = int(input('shoa ra vared konid'))\n",
    "h = int(input('ertfa ra vared konid'))\n",
    "masahatjanebi = (2*p*r*h)\n",
    "masahatdayereh = (p*r*r)\n",
    "hajm = (masahatdayereh*h)\n",
    "masahatkol = (2*p*r(h+r))\n",
    "print(masahatjanebi)\n",
    "print(hajm)\n",
    "print(masahatkol)"
   ]
  }
 ],
 "metadata": {
  "kernelspec": {
   "display_name": "Python 3.10.6 64-bit",
   "language": "python",
   "name": "python3"
  },
  "language_info": {
   "codemirror_mode": {
    "name": "ipython",
    "version": 3
   },
   "file_extension": ".py",
   "mimetype": "text/x-python",
   "name": "python",
   "nbconvert_exporter": "python",
   "pygments_lexer": "ipython3",
   "version": "3.10.6"
  },
  "orig_nbformat": 4,
  "vscode": {
   "interpreter": {
    "hash": "c7138a203ef7aeece7a1358e4d4a9de5add35a9a7292be9026489a92585e22ee"
   }
  }
 },
 "nbformat": 4,
 "nbformat_minor": 2
}
